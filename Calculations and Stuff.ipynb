{
 "cells": [
  {
   "cell_type": "code",
   "execution_count": 1,
   "id": "fc831a24",
   "metadata": {},
   "outputs": [
    {
     "name": "stdout",
     "output_type": "stream",
     "text": [
      "             ┌──────────────┐\n",
      "             │  1    2    3 │\n",
      "             │  4   top   5 │\n",
      "             │  6    7    8 │\n",
      "┌────────────┼──────────────┼─────────────┬────────────┐\n",
      "│  9  10  11 │ 17   18   19 │ 25   26  27 │ 33  34  35 │\n",
      "│ 12 left 13 │ 20  front 21 │ 28 right 29 │ 36 rear 37 │\n",
      "│ 14  15  16 │ 22   23   24 │ 30   31  32 │ 38  39  40 │\n",
      "└────────────┼──────────────┼─────────────┴────────────┘\n",
      "             │ 41   42   43 │\n",
      "             │ 44 bottom 45 │\n",
      "             │ 46   47   48 │\n",
      "             └──────────────┘\n",
      "\n"
     ]
    }
   ],
   "source": [
    "rubik = CubeGroup()\n",
    "rubik.display2d(\"\")"
   ]
  },
  {
   "cell_type": "code",
   "execution_count": null,
   "id": "c1d1f538",
   "metadata": {},
   "outputs": [],
   "source": []
  }
 ],
 "metadata": {
  "kernelspec": {
   "display_name": "SageMath 10.2",
   "language": "sage",
   "name": "sagemath-10.2"
  },
  "language_info": {
   "codemirror_mode": {
    "name": "ipython",
    "version": 3
   },
   "file_extension": ".py",
   "mimetype": "text/x-python",
   "name": "python",
   "nbconvert_exporter": "python",
   "pygments_lexer": "ipython3",
   "version": "3.11.1"
  }
 },
 "nbformat": 4,
 "nbformat_minor": 5
}
